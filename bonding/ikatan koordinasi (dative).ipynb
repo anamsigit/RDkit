{
 "cells": [
  {
   "cell_type": "code",
   "execution_count": 1,
   "metadata": {},
   "outputs": [],
   "source": [
    "from rdkit import Chem\n",
    "from rdkit.Chem.Draw import IPythonConsole"
   ]
  },
  {
   "cell_type": "code",
   "execution_count": 2,
   "metadata": {},
   "outputs": [],
   "source": [
    "def is_transition_metal(at):\n",
    "    n = at.GetAtomicNum()\n",
    "    return (n>=22 and n<=29) or (n>=40 and n<=47) or (n>=72 and n<=79)\n",
    "def set_dative_bonds(mol, fromAtoms=(7,8)):\n",
    "    \"\"\" convert some bonds to dative\n",
    "\n",
    "    Replaces some single bonds between metals and atoms with atomic numbers in fomAtoms\n",
    "    with dative bonds. The replacement is only done if the atom has \"too many\" bonds.\n",
    "\n",
    "    Returns the modified molecule.\n",
    "\n",
    "    \"\"\"\n",
    "    pt = Chem.GetPeriodicTable()\n",
    "    rwmol = Chem.RWMol(mol)\n",
    "    rwmol.UpdatePropertyCache(strict=False)\n",
    "    metals = [at for at in rwmol.GetAtoms() if is_transition_metal(at)]\n",
    "    for metal in metals:\n",
    "        for nbr in metal.GetNeighbors():\n",
    "            if nbr.GetAtomicNum() in fromAtoms and \\\n",
    "               nbr.GetExplicitValence()>pt.GetDefaultValence(nbr.GetAtomicNum()) and \\\n",
    "               rwmol.GetBondBetweenAtoms(nbr.GetIdx(),metal.GetIdx()).GetBondType() == Chem.BondType.SINGLE:\n",
    "                rwmol.RemoveBond(nbr.GetIdx(),metal.GetIdx())\n",
    "                rwmol.AddBond(nbr.GetIdx(),metal.GetIdx(),Chem.BondType.DATIVE)\n",
    "    return rwmol"
   ]
  },
  {
   "cell_type": "code",
   "execution_count": 4,
   "metadata": {},
   "outputs": [
    {
     "data": {
      "image/png": "[encoded data removed]",
      "text/plain": [
       "<rdkit.Chem.rdchem.RWMol at 0x115e86354f0>"
      ]
     },
     "execution_count": 4,
     "metadata": {},
     "output_type": "execute_result"
    }
   ],
   "source": [
    "m = Chem.MolFromSmiles('CN(C)(C)[Pt]', sanitize=False)\n",
    "m2 = set_dative_bonds(m)\n",
    "m2"
   ]
  },
  {
   "cell_type": "code",
   "execution_count": 6,
   "metadata": {},
   "outputs": [
    {
     "name": "stdout",
     "output_type": "stream",
     "text": [
      "ikatanya adalah : DATIVE\n"
     ]
    }
   ],
   "source": [
    "# we can check the bond between nitrogen and platinum\n",
    "print(\"ikatanya adalah :\", m2.GetBondBetweenAtoms(1,4).GetBondType())"
   ]
  },
  {
   "cell_type": "code",
   "execution_count": null,
   "metadata": {},
   "outputs": [],
   "source": []
  }
 ],
 "metadata": {
  "kernelspec": {
   "display_name": "Python 3.9.5 64-bit",
   "language": "python",
   "name": "python3"
  },
  "language_info": {
   "codemirror_mode": {
    "name": "ipython",
    "version": 3
   },
   "file_extension": ".py",
   "mimetype": "text/x-python",
   "name": "python",
   "nbconvert_exporter": "python",
   "pygments_lexer": "ipython3",
   "version": "3.9.5"
  },
  "orig_nbformat": 4,
  "vscode": {
   "interpreter": {
    "hash": "4cff3abf1678755e0069fd79299a535fe1940bcd71a6b01d9f4386710b2b163f"
   }
  }
 },
 "nbformat": 4,
 "nbformat_minor": 2
}
