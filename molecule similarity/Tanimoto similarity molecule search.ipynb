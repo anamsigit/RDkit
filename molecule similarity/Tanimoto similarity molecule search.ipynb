{
 "cells": [
  {
   "cell_type": "markdown",
   "id": "bdbafaf6",
   "metadata": {},
   "source": [
    "saya belum tahu cara memanggil fungsi tanimoto nya, dan sepertinya ada modul yang kurang (fingerprintmol)"
   ]
  },
  {
   "cell_type": "code",
   "execution_count": 3,
   "id": "c16d0265",
   "metadata": {},
   "outputs": [],
   "source": [
    "# from rdkit import Chem\n",
    "\n",
    "# load a mol from a SMILES string\n",
    "mol = Chem.MolFromSmiles('CC(N)C(=O)O')"
   ]
  },
  {
   "cell_type": "code",
   "execution_count": 4,
   "id": "ded470ac",
   "metadata": {},
   "outputs": [
    {
     "data": {
      "image/svg+xml": [
       "<svg xmlns=\"http://www.w3.org/2000/svg\" xmlns:rdkit=\"http://www.rdkit.org/xml\" xmlns:xlink=\"http://www.w3.org/1999/xlink\" version=\"1.1\" baseProfile=\"full\" xml:space=\"preserve\" width=\"450px\" height=\"150px\" viewBox=\"0 0 450 150\">\n",
       "<!-- END OF HEADER -->\n",
       "<rect style=\"opacity:1.0;fill:#FFFFFF;stroke:none\" width=\"450.0\" height=\"150.0\" x=\"0.0\" y=\"0.0\"> </rect>\n",
       "<path class=\"bond-0 atom-0 atom-1\" d=\"M 283.9,15.9 L 252.3,70.6\" style=\"fill:none;fill-rule:evenodd;stroke:#000000;stroke-width:2.0px;stroke-linecap:butt;stroke-linejoin:miter;stroke-opacity:1\"/>\n",
       "<path class=\"bond-1 atom-1 atom-2\" d=\"M 252.3,70.6 L 264.9,92.4\" style=\"fill:none;fill-rule:evenodd;stroke:#000000;stroke-width:2.0px;stroke-linecap:butt;stroke-linejoin:miter;stroke-opacity:1\"/>\n",
       "<path class=\"bond-1 atom-1 atom-2\" d=\"M 264.9,92.4 L 277.5,114.3\" style=\"fill:none;fill-rule:evenodd;stroke:#0000FF;stroke-width:2.0px;stroke-linecap:butt;stroke-linejoin:miter;stroke-opacity:1\"/>\n",
       "<path class=\"bond-2 atom-1 atom-3\" d=\"M 252.3,70.6 L 189.1,70.6\" style=\"fill:none;fill-rule:evenodd;stroke:#000000;stroke-width:2.0px;stroke-linecap:butt;stroke-linejoin:miter;stroke-opacity:1\"/>\n",
       "<path class=\"bond-3 atom-3 atom-4\" d=\"M 194.6,73.7 L 182.0,95.5\" style=\"fill:none;fill-rule:evenodd;stroke:#000000;stroke-width:2.0px;stroke-linecap:butt;stroke-linejoin:miter;stroke-opacity:1\"/>\n",
       "<path class=\"bond-3 atom-3 atom-4\" d=\"M 182.0,95.5 L 169.4,117.3\" style=\"fill:none;fill-rule:evenodd;stroke:#FF0000;stroke-width:2.0px;stroke-linecap:butt;stroke-linejoin:miter;stroke-opacity:1\"/>\n",
       "<path class=\"bond-3 atom-3 atom-4\" d=\"M 183.6,67.4 L 171.0,89.2\" style=\"fill:none;fill-rule:evenodd;stroke:#000000;stroke-width:2.0px;stroke-linecap:butt;stroke-linejoin:miter;stroke-opacity:1\"/>\n",
       "<path class=\"bond-3 atom-3 atom-4\" d=\"M 171.0,89.2 L 158.5,111.0\" style=\"fill:none;fill-rule:evenodd;stroke:#FF0000;stroke-width:2.0px;stroke-linecap:butt;stroke-linejoin:miter;stroke-opacity:1\"/>\n",
       "<path class=\"bond-4 atom-3 atom-5\" d=\"M 189.1,70.6 L 176.6,48.9\" style=\"fill:none;fill-rule:evenodd;stroke:#000000;stroke-width:2.0px;stroke-linecap:butt;stroke-linejoin:miter;stroke-opacity:1\"/>\n",
       "<path class=\"bond-4 atom-3 atom-5\" d=\"M 176.6,48.9 L 164.1,27.3\" style=\"fill:none;fill-rule:evenodd;stroke:#FF0000;stroke-width:2.0px;stroke-linecap:butt;stroke-linejoin:miter;stroke-opacity:1\"/>\n",
       "<path class=\"atom-2\" d=\"M 279.9 116.3 L 285.8 125.8 Q 286.4 126.8, 287.3 128.4 Q 288.2 130.1, 288.3 130.2 L 288.3 116.3 L 290.6 116.3 L 290.6 134.2 L 288.2 134.2 L 281.9 123.9 Q 281.2 122.7, 280.4 121.3 Q 279.6 119.9, 279.4 119.5 L 279.4 134.2 L 277.1 134.2 L 277.1 116.3 L 279.9 116.3 \" fill=\"#0000FF\"/>\n",
       "<path class=\"atom-2\" d=\"M 292.7 116.3 L 295.2 116.3 L 295.2 124.0 L 304.3 124.0 L 304.3 116.3 L 306.7 116.3 L 306.7 134.2 L 304.3 134.2 L 304.3 126.0 L 295.2 126.0 L 295.2 134.2 L 292.7 134.2 L 292.7 116.3 \" fill=\"#0000FF\"/>\n",
       "<path class=\"atom-2\" d=\"M 308.9 133.6 Q 309.4 132.5, 310.4 131.9 Q 311.4 131.2, 312.9 131.2 Q 314.6 131.2, 315.6 132.2 Q 316.7 133.2, 316.7 134.9 Q 316.7 136.6, 315.3 138.3 Q 314.1 139.9, 311.4 141.8 L 316.9 141.8 L 316.9 143.2 L 308.9 143.2 L 308.9 142.1 Q 311.1 140.5, 312.4 139.3 Q 313.7 138.2, 314.3 137.1 Q 315.0 136.1, 315.0 135.0 Q 315.0 133.8, 314.4 133.2 Q 313.8 132.6, 312.9 132.6 Q 311.9 132.6, 311.3 133.0 Q 310.6 133.3, 310.2 134.2 L 308.9 133.6 \" fill=\"#0000FF\"/>\n",
       "<path class=\"atom-4\" d=\"M 149.3 125.3 Q 149.3 121.0, 151.4 118.6 Q 153.5 116.2, 157.5 116.2 Q 161.5 116.2, 163.6 118.6 Q 165.7 121.0, 165.7 125.3 Q 165.7 129.7, 163.6 132.2 Q 161.4 134.6, 157.5 134.6 Q 153.6 134.6, 151.4 132.2 Q 149.3 129.7, 149.3 125.3 M 157.5 132.6 Q 160.2 132.6, 161.7 130.8 Q 163.2 128.9, 163.2 125.3 Q 163.2 121.8, 161.7 120.1 Q 160.2 118.3, 157.5 118.3 Q 154.8 118.3, 153.3 120.0 Q 151.8 121.8, 151.8 125.3 Q 151.8 129.0, 153.3 130.8 Q 154.8 132.6, 157.5 132.6 \" fill=\"#FF0000\"/>\n",
       "<path class=\"atom-5\" d=\"M 133.1 7.0 L 135.6 7.0 L 135.6 14.6 L 144.7 14.6 L 144.7 7.0 L 147.1 7.0 L 147.1 24.9 L 144.7 24.9 L 144.7 16.6 L 135.6 16.6 L 135.6 24.9 L 133.1 24.9 L 133.1 7.0 \" fill=\"#FF0000\"/>\n",
       "<path class=\"atom-5\" d=\"M 149.3 15.9 Q 149.3 11.6, 151.4 9.2 Q 153.5 6.8, 157.5 6.8 Q 161.5 6.8, 163.6 9.2 Q 165.7 11.6, 165.7 15.9 Q 165.7 20.3, 163.6 22.7 Q 161.4 25.2, 157.5 25.2 Q 153.6 25.2, 151.4 22.7 Q 149.3 20.3, 149.3 15.9 M 157.5 23.2 Q 160.2 23.2, 161.7 21.3 Q 163.2 19.5, 163.2 15.9 Q 163.2 12.4, 161.7 10.6 Q 160.2 8.8, 157.5 8.8 Q 154.8 8.8, 153.3 10.6 Q 151.8 12.4, 151.8 15.9 Q 151.8 19.5, 153.3 21.3 Q 154.8 23.2, 157.5 23.2 \" fill=\"#FF0000\"/>\n",
       "</svg>"
      ],
      "text/plain": [
       "<IPython.core.display.SVG object>"
      ]
     },
     "metadata": {},
     "output_type": "display_data"
    }
   ],
   "source": [
    "# from IPython import display\n",
    "from IPython.display import SVG\n",
    "from rdkit.Chem import rdDepictor as rdd\n",
    "from rdkit.Chem.Draw import rdMolDraw2D as draw2d\n",
    "\n",
    "def draw2D(m):\n",
    "    molSize = (450, 150)                    # draw area \n",
    "    mc = Chem.Mol(m.ToBinary())    \n",
    "    if not mc.GetNumConformers():\n",
    "        rdd.Compute2DCoords(mc)             # compute 2D coordinates of atoms\n",
    "    drawer = draw2d.MolDraw2DSVG(\\\n",
    "        molSize[0],molSize[1])              # initialize drawer with size\n",
    "    drawer.DrawMolecule(mc)                 # draw the molecule\n",
    "    drawer.FinishDrawing()\n",
    "    svg = drawer.GetDrawingText()           # get the SVG string \n",
    "    display(SVG(svg.replace('svg:','')))    # fix and display in Jupyter notebook\n",
    "    \n",
    "draw2D(mol)"
   ]
  },
  {
   "cell_type": "code",
   "execution_count": 7,
   "id": "f385dc8d",
   "metadata": {},
   "outputs": [
    {
     "data": {
      "image/svg+xml": [
       "<svg xmlns=\"http://www.w3.org/2000/svg\" xmlns:rdkit=\"http://www.rdkit.org/xml\" xmlns:xlink=\"http://www.w3.org/1999/xlink\" version=\"1.1\" baseProfile=\"full\" xml:space=\"preserve\" width=\"450px\" height=\"150px\" viewBox=\"0 0 450 150\">\n",
       "<!-- END OF HEADER -->\n",
       "<rect style=\"opacity:1.0;fill:#FFFFFF;stroke:none\" width=\"450.0\" height=\"150.0\" x=\"0.0\" y=\"0.0\"> </rect>\n",
       "<path class=\"bond-0 atom-0 atom-1\" d=\"M 283.9,15.9 L 252.3,70.6\" style=\"fill:none;fill-rule:evenodd;stroke:#000000;stroke-width:2.0px;stroke-linecap:butt;stroke-linejoin:miter;stroke-opacity:1\"/>\n",
       "<path class=\"bond-1 atom-1 atom-2\" d=\"M 252.3,70.6 L 264.9,92.4\" style=\"fill:none;fill-rule:evenodd;stroke:#000000;stroke-width:2.0px;stroke-linecap:butt;stroke-linejoin:miter;stroke-opacity:1\"/>\n",
       "<path class=\"bond-1 atom-1 atom-2\" d=\"M 264.9,92.4 L 277.5,114.3\" style=\"fill:none;fill-rule:evenodd;stroke:#0000FF;stroke-width:2.0px;stroke-linecap:butt;stroke-linejoin:miter;stroke-opacity:1\"/>\n",
       "<path class=\"bond-2 atom-1 atom-3\" d=\"M 252.3,70.6 L 189.1,70.6\" style=\"fill:none;fill-rule:evenodd;stroke:#000000;stroke-width:2.0px;stroke-linecap:butt;stroke-linejoin:miter;stroke-opacity:1\"/>\n",
       "<path class=\"bond-3 atom-3 atom-4\" d=\"M 194.6,73.7 L 182.0,95.5\" style=\"fill:none;fill-rule:evenodd;stroke:#000000;stroke-width:2.0px;stroke-linecap:butt;stroke-linejoin:miter;stroke-opacity:1\"/>\n",
       "<path class=\"bond-3 atom-3 atom-4\" d=\"M 182.0,95.5 L 169.4,117.3\" style=\"fill:none;fill-rule:evenodd;stroke:#FF0000;stroke-width:2.0px;stroke-linecap:butt;stroke-linejoin:miter;stroke-opacity:1\"/>\n",
       "<path class=\"bond-3 atom-3 atom-4\" d=\"M 183.6,67.4 L 171.0,89.2\" style=\"fill:none;fill-rule:evenodd;stroke:#000000;stroke-width:2.0px;stroke-linecap:butt;stroke-linejoin:miter;stroke-opacity:1\"/>\n",
       "<path class=\"bond-3 atom-3 atom-4\" d=\"M 171.0,89.2 L 158.5,111.0\" style=\"fill:none;fill-rule:evenodd;stroke:#FF0000;stroke-width:2.0px;stroke-linecap:butt;stroke-linejoin:miter;stroke-opacity:1\"/>\n",
       "<path class=\"bond-4 atom-3 atom-5\" d=\"M 189.1,70.6 L 176.6,48.9\" style=\"fill:none;fill-rule:evenodd;stroke:#000000;stroke-width:2.0px;stroke-linecap:butt;stroke-linejoin:miter;stroke-opacity:1\"/>\n",
       "<path class=\"bond-4 atom-3 atom-5\" d=\"M 176.6,48.9 L 164.1,27.3\" style=\"fill:none;fill-rule:evenodd;stroke:#FF0000;stroke-width:2.0px;stroke-linecap:butt;stroke-linejoin:miter;stroke-opacity:1\"/>\n",
       "<path class=\"atom-2\" d=\"M 279.9 116.3 L 285.8 125.8 Q 286.4 126.8, 287.3 128.4 Q 288.2 130.1, 288.3 130.2 L 288.3 116.3 L 290.6 116.3 L 290.6 134.2 L 288.2 134.2 L 281.9 123.9 Q 281.2 122.7, 280.4 121.3 Q 279.6 119.9, 279.4 119.5 L 279.4 134.2 L 277.1 134.2 L 277.1 116.3 L 279.9 116.3 \" fill=\"#0000FF\"/>\n",
       "<path class=\"atom-2\" d=\"M 292.7 116.3 L 295.2 116.3 L 295.2 124.0 L 304.3 124.0 L 304.3 116.3 L 306.7 116.3 L 306.7 134.2 L 304.3 134.2 L 304.3 126.0 L 295.2 126.0 L 295.2 134.2 L 292.7 134.2 L 292.7 116.3 \" fill=\"#0000FF\"/>\n",
       "<path class=\"atom-2\" d=\"M 308.9 133.6 Q 309.4 132.5, 310.4 131.9 Q 311.4 131.2, 312.9 131.2 Q 314.6 131.2, 315.6 132.2 Q 316.7 133.2, 316.7 134.9 Q 316.7 136.6, 315.3 138.3 Q 314.1 139.9, 311.4 141.8 L 316.9 141.8 L 316.9 143.2 L 308.9 143.2 L 308.9 142.1 Q 311.1 140.5, 312.4 139.3 Q 313.7 138.2, 314.3 137.1 Q 315.0 136.1, 315.0 135.0 Q 315.0 133.8, 314.4 133.2 Q 313.8 132.6, 312.9 132.6 Q 311.9 132.6, 311.3 133.0 Q 310.6 133.3, 310.2 134.2 L 308.9 133.6 \" fill=\"#0000FF\"/>\n",
       "<path class=\"atom-4\" d=\"M 149.3 125.3 Q 149.3 121.0, 151.4 118.6 Q 153.5 116.2, 157.5 116.2 Q 161.5 116.2, 163.6 118.6 Q 165.7 121.0, 165.7 125.3 Q 165.7 129.7, 163.6 132.2 Q 161.4 134.6, 157.5 134.6 Q 153.6 134.6, 151.4 132.2 Q 149.3 129.7, 149.3 125.3 M 157.5 132.6 Q 160.2 132.6, 161.7 130.8 Q 163.2 128.9, 163.2 125.3 Q 163.2 121.8, 161.7 120.1 Q 160.2 118.3, 157.5 118.3 Q 154.8 118.3, 153.3 120.0 Q 151.8 121.8, 151.8 125.3 Q 151.8 129.0, 153.3 130.8 Q 154.8 132.6, 157.5 132.6 \" fill=\"#FF0000\"/>\n",
       "<path class=\"atom-5\" d=\"M 133.1 7.0 L 135.6 7.0 L 135.6 14.6 L 144.7 14.6 L 144.7 7.0 L 147.1 7.0 L 147.1 24.9 L 144.7 24.9 L 144.7 16.6 L 135.6 16.6 L 135.6 24.9 L 133.1 24.9 L 133.1 7.0 \" fill=\"#FF0000\"/>\n",
       "<path class=\"atom-5\" d=\"M 149.3 15.9 Q 149.3 11.6, 151.4 9.2 Q 153.5 6.8, 157.5 6.8 Q 161.5 6.8, 163.6 9.2 Q 165.7 11.6, 165.7 15.9 Q 165.7 20.3, 163.6 22.7 Q 161.4 25.2, 157.5 25.2 Q 153.6 25.2, 151.4 22.7 Q 149.3 20.3, 149.3 15.9 M 157.5 23.2 Q 160.2 23.2, 161.7 21.3 Q 163.2 19.5, 163.2 15.9 Q 163.2 12.4, 161.7 10.6 Q 160.2 8.8, 157.5 8.8 Q 154.8 8.8, 153.3 10.6 Q 151.8 12.4, 151.8 15.9 Q 151.8 19.5, 153.3 21.3 Q 154.8 23.2, 157.5 23.2 \" fill=\"#FF0000\"/>\n",
       "</svg>"
      ],
      "text/plain": [
       "<IPython.core.display.SVG object>"
      ]
     },
     "metadata": {},
     "output_type": "display_data"
    },
    {
     "data": {
      "image/svg+xml": [
       "<svg xmlns=\"http://www.w3.org/2000/svg\" xmlns:rdkit=\"http://www.rdkit.org/xml\" xmlns:xlink=\"http://www.w3.org/1999/xlink\" version=\"1.1\" baseProfile=\"full\" xml:space=\"preserve\" width=\"450px\" height=\"150px\" viewBox=\"0 0 450 150\">\n",
       "<!-- END OF HEADER -->\n",
       "<rect style=\"opacity:1.0;fill:#FFFFFF;stroke:none\" width=\"450.0\" height=\"150.0\" x=\"0.0\" y=\"0.0\"> </rect>\n",
       "<path class=\"bond-0 atom-0 atom-1\" d=\"M 38.0,116.2 L 206.4,19.0\" style=\"fill:none;fill-rule:evenodd;stroke:#000000;stroke-width:2.0px;stroke-linecap:butt;stroke-linejoin:miter;stroke-opacity:1\"/>\n",
       "<path class=\"bond-1 atom-1 atom-2\" d=\"M 206.4,19.0 L 280.9,62.0\" style=\"fill:none;fill-rule:evenodd;stroke:#000000;stroke-width:2.0px;stroke-linecap:butt;stroke-linejoin:miter;stroke-opacity:1\"/>\n",
       "<path class=\"bond-1 atom-1 atom-2\" d=\"M 280.9,62.0 L 355.4,105.0\" style=\"fill:none;fill-rule:evenodd;stroke:#FF0000;stroke-width:2.0px;stroke-linecap:butt;stroke-linejoin:miter;stroke-opacity:1\"/>\n",
       "<path class=\"atom-2\" d=\"M 361.8 116.3 Q 361.8 109.5, 365.2 105.7 Q 368.6 101.9, 374.8 101.9 Q 381.1 101.9, 384.5 105.7 Q 387.8 109.5, 387.8 116.3 Q 387.8 123.2, 384.4 127.1 Q 381.0 131.0, 374.8 131.0 Q 368.6 131.0, 365.2 127.1 Q 361.8 123.2, 361.8 116.3 M 374.8 127.8 Q 379.2 127.8, 381.5 124.9 Q 383.8 122.0, 383.8 116.3 Q 383.8 110.8, 381.5 108.0 Q 379.2 105.1, 374.8 105.1 Q 370.5 105.1, 368.2 107.9 Q 365.8 110.7, 365.8 116.3 Q 365.8 122.0, 368.2 124.9 Q 370.5 127.8, 374.8 127.8 \" fill=\"#FF0000\"/>\n",
       "<path class=\"atom-2\" d=\"M 389.8 102.2 L 393.7 102.2 L 393.7 114.3 L 408.2 114.3 L 408.2 102.2 L 412.0 102.2 L 412.0 130.6 L 408.2 130.6 L 408.2 117.5 L 393.7 117.5 L 393.7 130.6 L 389.8 130.6 L 389.8 102.2 \" fill=\"#FF0000\"/>\n",
       "</svg>"
      ],
      "text/plain": [
       "<IPython.core.display.SVG object>"
      ]
     },
     "metadata": {},
     "output_type": "display_data"
    },
    {
     "data": {
      "text/plain": [
       "True"
      ]
     },
     "execution_count": 7,
     "metadata": {},
     "output_type": "execute_result"
    }
   ],
   "source": [
    "\n",
    "mol = Chem.MolFromSmiles('CC(N)C(=O)O')\n",
    "\n",
    "# load a substructure from a SMILES string\n",
    "pattern = Chem.MolFromSmiles('CCO')\n",
    "\n",
    "draw2D(mol)\n",
    "draw2D(pattern)\n",
    "\n",
    "# perform substructure match on mol\n",
    "#Membandingkan substruktur pada suatu molekul dengan suatu pecahan \n",
    "mol.HasSubstructMatch(pattern)    # returns true"
   ]
  },
  {
   "cell_type": "markdown",
   "id": "20e5fff8",
   "metadata": {},
   "source": [
    "RDKit provides tools for different kinds of similarity search, including Tanimoto, Dice, Cosine, Sokal, Russel… and more. Tanimoto is a very widely use similarity search metric because it incorporates substructure matching\n"
   ]
  },
  {
   "cell_type": "code",
   "execution_count": 10,
   "id": "d9703d94",
   "metadata": {},
   "outputs": [],
   "source": [
    "import rdkit.Chem.Fingerprints.FingerprintMols"
   ]
  },
  {
   "cell_type": "code",
   "execution_count": 11,
   "id": "b0f03c2b",
   "metadata": {},
   "outputs": [],
   "source": [
    "def tanimoto_similarity(ms, idx):\n",
    "    # convert Mol to datastructure type using a list comprehension\n",
    "    fps = [FingerprintMol(i) for i in ms]\n",
    "    \n",
    "    # set a query molecule: can be changed \n",
    "    query = fps[idx]\n",
    "    \n",
    "    # declare new list for similarities\n",
    "    lst= []\n",
    "    \n",
    "    # loop through to find Tanimoto similarity\n",
    "    for i in range(len(fps)):\n",
    "        # tuple: (idx, similarity)\n",
    "        lst.append((i, DataStructs.FingerprintSimilarity(query, fps[i])))\n",
    "    \n",
    "    # sort sim using the similarities\n",
    "    lst.sort(key=lambda x:x[1], reverse=True)\n",
    "    \n",
    "    return lst"
   ]
  },
  {
   "cell_type": "code",
   "execution_count": 13,
   "id": "b2934d21",
   "metadata": {},
   "outputs": [
    {
     "ename": "NameError",
     "evalue": "name 'FingerprintMol' is not defined",
     "output_type": "error",
     "traceback": [
      "\u001b[1;31m---------------------------------------------------------------------------\u001b[0m",
      "\u001b[1;31mNameError\u001b[0m                                 Traceback (most recent call last)",
      "Input \u001b[1;32mIn [13]\u001b[0m, in \u001b[0;36m<cell line: 1>\u001b[1;34m()\u001b[0m\n\u001b[1;32m----> 1\u001b[0m \u001b[43mtanimoto_similarity\u001b[49m\u001b[43m(\u001b[49m\u001b[38;5;124;43m'\u001b[39;49m\u001b[38;5;124;43m1\u001b[39;49m\u001b[38;5;124;43m'\u001b[39;49m\u001b[43m,\u001b[49m\u001b[43m \u001b[49m\u001b[38;5;124;43m'\u001b[39;49m\u001b[38;5;124;43m1\u001b[39;49m\u001b[38;5;124;43m'\u001b[39;49m\u001b[43m)\u001b[49m\n",
      "Input \u001b[1;32mIn [11]\u001b[0m, in \u001b[0;36mtanimoto_similarity\u001b[1;34m(ms, idx)\u001b[0m\n\u001b[0;32m      1\u001b[0m \u001b[38;5;28;01mdef\u001b[39;00m \u001b[38;5;21mtanimoto_similarity\u001b[39m(ms, idx):\n\u001b[0;32m      2\u001b[0m     \u001b[38;5;66;03m# convert Mol to datastructure type using a list comprehension\u001b[39;00m\n\u001b[1;32m----> 3\u001b[0m     fps \u001b[38;5;241m=\u001b[39m [FingerprintMol(i) \u001b[38;5;28;01mfor\u001b[39;00m i \u001b[38;5;129;01min\u001b[39;00m ms]\n\u001b[0;32m      5\u001b[0m     \u001b[38;5;66;03m# set a query molecule: can be changed \u001b[39;00m\n\u001b[0;32m      6\u001b[0m     query \u001b[38;5;241m=\u001b[39m fps[idx]\n",
      "Input \u001b[1;32mIn [11]\u001b[0m, in \u001b[0;36m<listcomp>\u001b[1;34m(.0)\u001b[0m\n\u001b[0;32m      1\u001b[0m \u001b[38;5;28;01mdef\u001b[39;00m \u001b[38;5;21mtanimoto_similarity\u001b[39m(ms, idx):\n\u001b[0;32m      2\u001b[0m     \u001b[38;5;66;03m# convert Mol to datastructure type using a list comprehension\u001b[39;00m\n\u001b[1;32m----> 3\u001b[0m     fps \u001b[38;5;241m=\u001b[39m [\u001b[43mFingerprintMol\u001b[49m(i) \u001b[38;5;28;01mfor\u001b[39;00m i \u001b[38;5;129;01min\u001b[39;00m ms]\n\u001b[0;32m      5\u001b[0m     \u001b[38;5;66;03m# set a query molecule: can be changed \u001b[39;00m\n\u001b[0;32m      6\u001b[0m     query \u001b[38;5;241m=\u001b[39m fps[idx]\n",
      "\u001b[1;31mNameError\u001b[0m: name 'FingerprintMol' is not defined"
     ]
    }
   ],
   "source": [
    "tanimoto_similarity('1', '1')"
   ]
  },
  {
   "cell_type": "code",
   "execution_count": null,
   "id": "1c073e27",
   "metadata": {},
   "outputs": [],
   "source": []
  }
 ],
 "metadata": {
  "kernelspec": {
   "display_name": "Python 3 (ipykernel)",
   "language": "python",
   "name": "python3"
  },
  "language_info": {
   "codemirror_mode": {
    "name": "ipython",
    "version": 3
   },
   "file_extension": ".py",
   "mimetype": "text/x-python",
   "name": "python",
   "nbconvert_exporter": "python",
   "pygments_lexer": "ipython3",
   "version": "3.9.5"
  }
 },
 "nbformat": 4,
 "nbformat_minor": 5
}
