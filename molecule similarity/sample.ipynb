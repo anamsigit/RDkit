from rdkit import Chem

# load a mol from a SMILES string
mol = Chem.MolFromSmiles('CC(N)C(=O)O')

# from IPython import display
from IPython.display import SVG
from rdkit.Chem import rdDepictor as rdd
from rdkit.Chem.Draw import rdMolDraw2D as draw2d

def draw2D(m):
    molSize = (450, 150)                    # draw area 
    mc = Chem.Mol(m.ToBinary())    
    if not mc.GetNumConformers():
        rdd.Compute2DCoords(mc)             # compute 2D coordinates of atoms
    drawer = draw2d.MolDraw2DSVG(\
        molSize[0],molSize[1])              # initialize drawer with size
    drawer.DrawMolecule(mc)                 # draw the molecule
    drawer.FinishDrawing()
    svg = drawer.GetDrawingText()           # get the SVG string 
    display(SVG(svg.replace('svg:','')))    # fix and display in Jupyter notebook
    
x = draw2D(mol)
print(type(x))
