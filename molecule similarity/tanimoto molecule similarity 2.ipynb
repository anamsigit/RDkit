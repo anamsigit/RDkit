{
 "cells": [
  {
   "cell_type": "code",
   "execution_count": 15,
   "id": "0d880b77",
   "metadata": {},
   "outputs": [],
   "source": [
    "from rdkit import Chem\n",
    "from rdkit.Chem import AllChem\n",
    "from rdkit import DataStructs"
   ]
  },
  {
   "cell_type": "code",
   "execution_count": 16,
   "id": "52db73e9",
   "metadata": {},
   "outputs": [],
   "source": [
    "def similarity(a, b):\n",
    "    if a is None or b is None: \n",
    "        return 0.0\n",
    "    amol = Chem.MolFromSmiles(a)\n",
    "    bmol = Chem.MolFromSmiles(b)\n",
    "    if amol is None or bmol is None:\n",
    "        return 0.0\n",
    "\n",
    "    fp1 = AllChem.GetMorganFingerprintAsBitVect(amol, 2, nBits=2048, useChirality=False)\n",
    "    fp2 = AllChem.GetMorganFingerprintAsBitVect(bmol, 2, nBits=2048, useChirality=False)\n",
    "    return DataStructs.TanimotoSimilarity(fp1, fp2) "
   ]
  },
  {
   "cell_type": "code",
   "execution_count": 17,
   "id": "08ba783e",
   "metadata": {},
   "outputs": [
    {
     "data": {
      "text/plain": [
       "0.38461538461538464"
      ]
     },
     "execution_count": 17,
     "metadata": {},
     "output_type": "execute_result"
    }
   ],
   "source": [
    "similarity('OC1CCCCC1O', 'C1CCCC2CCCCC12')"
   ]
  },
  {
   "cell_type": "code",
   "execution_count": null,
   "id": "c7fdd8e1",
   "metadata": {},
   "outputs": [],
   "source": []
  }
 ],
 "metadata": {
  "kernelspec": {
   "display_name": "Python 3 (ipykernel)",
   "language": "python",
   "name": "python3"
  },
  "language_info": {
   "codemirror_mode": {
    "name": "ipython",
    "version": 3
   },
   "file_extension": ".py",
   "mimetype": "text/x-python",
   "name": "python",
   "nbconvert_exporter": "python",
   "pygments_lexer": "ipython3",
   "version": "3.9.5"
  }
 },
 "nbformat": 4,
 "nbformat_minor": 5
}
