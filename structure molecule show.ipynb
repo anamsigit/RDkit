{
  "nbformat": 4,
  "nbformat_minor": 0,
  "metadata": {
    "colab": {
      "name": "Untitled7.ipynb",
      "provenance": []
    },
    "kernelspec": {
      "name": "python3",
      "display_name": "Python 3"
    },
    "language_info": {
      "name": "python"
    }
  },
  "cells": [
    {
      "cell_type": "code",
      "source": [
        "!pip install rdkit-pypi"
      ],
      "metadata": {
        "id": "fpNYL1Kzp6zi"
      },
      "execution_count": null,
      "outputs": []
    },
    {
      "cell_type": "code",
      "source": [
        "from rdkit import Chem\n",
        "from rdkit.Chem import Draw"
      ],
      "metadata": {
        "id": "soDbWp9QrGTk"
      },
      "execution_count": 8,
      "outputs": []
    },
    {
      "cell_type": "code",
      "execution_count": 9,
      "metadata": {
        "id": "l62DiSO2ptdu"
      },
      "outputs": [],
      "source": [
        "\n",
        "\n",
        "# define the smiles string and covert it into a molecule sturcture ------------\n",
        "caffeine_smiles = 'CN1C=NC2=C1C(=O)N(C(=O)N2C)C'\n",
        "\n",
        "mol = Chem.MolFromSmiles(caffeine_smiles)\n",
        "\n",
        "# draw the modecule -----------------------------------------------------------\n",
        "Draw.MolToFile(mol, 'caffeine.png')\n",
        "\n",
        "# draw the molecule with property ---------------------------------------------\n",
        "for i, atom in enumerate(mol.GetAtoms()):\n",
        "    atom.SetProp(\"molAtomMapNumber\", str(atom.GetIdx()))\n",
        "    \n",
        "Draw.MolToFile(mol, 'caffeine_with_prop.png')"
      ]
    },
    {
      "cell_type": "code",
      "source": [
        ""
      ],
      "metadata": {
        "id": "gjw5Iamrp1Jm"
      },
      "execution_count": null,
      "outputs": []
    }
  ]
}